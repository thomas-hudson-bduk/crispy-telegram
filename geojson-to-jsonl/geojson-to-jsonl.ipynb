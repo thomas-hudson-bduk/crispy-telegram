{
 "cells": [
  {
   "cell_type": "code",
   "execution_count": null,
   "metadata": {},
   "outputs": [],
   "source": [
    "# Purpose: Convert geojson to jsonl\n",
    "# Author: Thomas Hudson\n",
    "# Date: 2023-05-19\n",
    "\n",
    "# Import libraries\n",
    "import json\n",
    "import geopandas as gpd"
   ]
  },
  {
   "cell_type": "code",
   "execution_count": null,
   "metadata": {},
   "outputs": [],
   "source": [
    "# Read in geojson file\n",
    "with open('Local_Authority_Districts_(May_2023)_UK_BFE.geojson') as file:\n",
    "    data = json.load(file)"
   ]
  },
  {
   "cell_type": "code",
   "execution_count": null,
   "metadata": {},
   "outputs": [],
   "source": [
    "# Create empty list to store features\n",
    "output = []\n",
    "for feature in data['features']:\n",
    "    # Include the \"geometry\" field in each feature\n",
    "    feature['geometry'] = feature.get('geometry', {})\n",
    "    output.append(json.dumps(feature))"
   ]
  },
  {
   "cell_type": "code",
   "execution_count": null,
   "metadata": {},
   "outputs": [],
   "source": [
    "# Write to file\n",
    "with open('output.jsonl', 'w') as file:\n",
    "    file.write('\\n'.join(output))"
   ]
  }
 ],
 "metadata": {
  "kernelspec": {
   "display_name": "Python 3",
   "language": "python",
   "name": "python3"
  },
  "language_info": {
   "codemirror_mode": {
    "name": "ipython",
    "version": 3
   },
   "file_extension": ".py",
   "mimetype": "text/x-python",
   "name": "python",
   "nbconvert_exporter": "python",
   "pygments_lexer": "ipython3",
   "version": "3.9.6"
  },
  "orig_nbformat": 4
 },
 "nbformat": 4,
 "nbformat_minor": 2
}

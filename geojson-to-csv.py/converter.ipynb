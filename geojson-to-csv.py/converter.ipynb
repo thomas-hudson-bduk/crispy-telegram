{
 "cells": [
  {
   "cell_type": "code",
   "execution_count": 12,
   "metadata": {},
   "outputs": [],
   "source": [
    "# Define file paths\n",
    "input_file = 'input.geojson'\n",
    "output_file = 'output.csv'\n",
    "\n",
    "# User-defined geometry field name\n",
    "geometry_field = 'geometry'"
   ]
  },
  {
   "cell_type": "code",
   "execution_count": 15,
   "metadata": {},
   "outputs": [],
   "source": [
    "# Import libraries\n",
    "import json\n",
    "import geopandas as gpd\n",
    "import pandas as pd\n",
    "import time"
   ]
  },
  {
   "cell_type": "code",
   "execution_count": 10,
   "metadata": {},
   "outputs": [],
   "source": [
    "# Decorator function to measure execution time\n",
    "def measure_execution_time(func):\n",
    "    def wrapper(*args, **kwargs):\n",
    "        start_time = time.time()\n",
    "        result = func(*args, **kwargs)\n",
    "        execution_time = time.time() - start_time\n",
    "        print(\"--- Time taken by {}: {:.2f} seconds ---\".format(func.__name__, execution_time))\n",
    "        return result\n",
    "    return wrapper"
   ]
  },
  {
   "cell_type": "code",
   "execution_count": 11,
   "metadata": {},
   "outputs": [],
   "source": [
    "# Read the GeoJSON file and convert it to a CSV file\n",
    "@measure_execution_time\n",
    "def read_geojson_file(file_path):\n",
    "    with open(file_path) as file:\n",
    "        data = json.load(file)\n",
    "    return data\n",
    "\n",
    "@measure_execution_time\n",
    "def convert_to_csv(data, geometry_field):\n",
    "    # Read GeoJSON data using geopandas\n",
    "    geodata = gpd.GeoDataFrame.from_features(data['features'])\n",
    "    \n",
    "    # Convert the specified geometry column to WKT representation\n",
    "    geodata['geometry_wkt'] = geodata[geometry_field].apply(lambda geom: geom.wkt)\n",
    "    \n",
    "    # Drop the original geometry column\n",
    "    geodata = geodata.drop(geometry_field, axis=1)\n",
    "    \n",
    "    return geodata\n",
    "\n",
    "@measure_execution_time\n",
    "def save_to_csv(geodata, output_file):\n",
    "    geodata.to_csv(output_file, index=False)"
   ]
  },
  {
   "cell_type": "code",
   "execution_count": 14,
   "metadata": {},
   "outputs": [
    {
     "name": "stdout",
     "output_type": "stream",
     "text": [
      "--- Time taken by read_geojson_file: 9.06 seconds ---\n",
      "--- Time taken by convert_to_csv: 9.35 seconds ---\n",
      "--- Time taken by save_to_csv: 5.04 seconds ---\n"
     ]
    }
   ],
   "source": [
    "# Measure the time for each step\n",
    "data = read_geojson_file(input_file)\n",
    "geodata = convert_to_csv(data, geometry_field)\n",
    "save_to_csv(geodata, output_file)"
   ]
  }
 ],
 "metadata": {
  "kernelspec": {
   "display_name": "Python 3",
   "language": "python",
   "name": "python3"
  },
  "language_info": {
   "codemirror_mode": {
    "name": "ipython",
    "version": 3
   },
   "file_extension": ".py",
   "mimetype": "text/x-python",
   "name": "python",
   "nbconvert_exporter": "python",
   "pygments_lexer": "ipython3",
   "version": "3.9.6"
  },
  "orig_nbformat": 4
 },
 "nbformat": 4,
 "nbformat_minor": 2
}
